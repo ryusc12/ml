{
 "cells": [
  {
   "cell_type": "markdown",
   "id": "601a70a9",
   "metadata": {},
   "source": [
    "#### sklearn.svm.SVC\n",
    "\n",
    "* class sklearn.svm.SVC(*, C=1.0, kernel='rbf', degree=3, gamma='scale', coef0=0.0, shrinking=True, probability=False, tol=0.001, cache_size=200, class_weight=None, verbose=False, max_iter=-1, decision_function_shape='ovr', break_ties=False, random_state=None)[source]\n",
    "\n",
    "* parameters:\n",
    "    - C : float, default=1.0 ,c값이 클수록 복잡한 모형 대신 오버피팅이 되면서 margine이 작아짐\n",
    "    - Gamma : {‘scale’, ‘auto’} or float, default=’scale’ , Gamma값이 클수록 복잡한 모형 클수록 서포트벡터로 잡는 벡터의 수가 작아짐\n",
    "    - kernel : {‘linear’, ‘poly’, ‘rbf’, ‘sigmoid’, ‘precomputed’} or callable, default=’rbf’"
   ]
  },
  {
   "cell_type": "code",
   "execution_count": 1,
   "id": "d052fff6",
   "metadata": {
    "ExecuteTime": {
     "end_time": "2023-02-02T05:22:54.634158Z",
     "start_time": "2023-02-02T05:22:54.509489Z"
    }
   },
   "outputs": [
    {
     "name": "stdout",
     "output_type": "stream",
     "text": [
      "0.9733333333333334\n",
      "0.96\n"
     ]
    }
   ],
   "source": [
    "from sklearn.datasets import load_iris\n",
    "from sklearn.svm import SVC\n",
    "from sklearn.model_selection import GridSearchCV,train_test_split\n",
    "from sklearn.metrics import accuracy_score\n",
    "\n",
    "iris = load_iris()\n",
    "x = iris.data\n",
    "y = iris.target\n",
    "\n",
    "x_train,x_test,y_train,y_test = train_test_split(x,y,test_size=0.5)\n",
    "\n",
    "clf = SVC(gamma=0.001,C=100)\n",
    "clf.fit(x_train,y_train)\n",
    "pred = clf.predict(x_test)\n",
    "acc = accuracy_score(y_test,pred)\n",
    "\n",
    "print(acc)\n",
    "\n",
    "pram = {'C':[1,10,100],\n",
    "       'gamma':[0.1,0.01,0.001]}\n",
    "grid = GridSearchCV(clf,param_grid=pram,cv=3,scoring=\"accuracy\")\n",
    "grid.fit(x_train,y_train)\n",
    "best_clf = grid.best_estimator_\n",
    "best_pred = best_clf.predict(x_test)\n",
    "best_acc = accuracy_score(y_test,best_pred)\n",
    "print(best_acc)"
   ]
  },
  {
   "cell_type": "markdown",
   "id": "1e0ca90c",
   "metadata": {
    "ExecuteTime": {
     "end_time": "2023-02-02T05:15:07.318101Z",
     "start_time": "2023-02-02T05:15:07.289143Z"
    }
   },
   "source": [
    "### human"
   ]
  },
  {
   "cell_type": "code",
   "execution_count": 7,
   "id": "aafd99c2",
   "metadata": {
    "ExecuteTime": {
     "end_time": "2023-02-02T05:23:00.257351Z",
     "start_time": "2023-02-02T05:22:56.949617Z"
    }
   },
   "outputs": [],
   "source": [
    "import pandas as pd\n",
    "\n",
    "feature_name_df = pd.read_csv('../ml/dataset/human_activity/features.txt',sep='\\s+',\n",
    "           header=None,names=['column_index','column_name'])\n",
    "feature_name = feature_name_df.iloc[:,1].values.tolist()\n",
    "\n",
    "def get_new_feature_name_df(old_feature_name_df):\n",
    "    feature_dup_df = pd.DataFrame(data=old_feature_name_df.groupby('column_name').cumcount(),columns=['dup_cnt'])\n",
    "    feature_dup_df = feature_dup_df.reset_index()\n",
    "    \n",
    "    new_feature_name_df = pd.merge(old_feature_name_df.reset_index(),feature_dup_df,how='outer')\n",
    "    new_feature_name_df['column_name'] =new_feature_name_df[['column_name','dup_cnt']].apply(lambda x : x[0]+'_'+str(x[1]) if x[1] >0 else x[0],axis=1)\n",
    "    \n",
    "    new_feature_name_df = new_feature_name_df.drop(['index'],axis=1)\n",
    "    return new_feature_name_df\n",
    "\n",
    "def get_human_dataset():\n",
    "    # 각 데이터 파일들은 공백으로 분리되어 있으므로 read_csv에서 공백 문자를 sep으로 할당\n",
    "    feature_name_df = pd.read_csv('../ml/dataset/human_activity/features.txt',sep='\\s+',\n",
    "           header=None,names=['column_index','column_name'])\n",
    "    # 중복된 피처명을 수정하는 get_new_feature_name_df를 이용 신규 피쳐명 df생성\n",
    "    new_feature_name_df = get_new_feature_name_df(feature_name_df)\n",
    "    \n",
    "    # DF에 피쳐명을 컬럼으로 부여하기 위해 리스트 객체로 다시 변환\n",
    "    feature_name = new_feature_name_df.iloc[:,1].values.tolist()\n",
    "    \n",
    "    # 학습 피처 데이터 셋과 테스트 피처 데이터 셋을 DF로 로딩 컬러명은 feature_name적용\n",
    "    x_train = pd.read_csv('../ml/dataset/human_activity/train/X_train.txt',sep=\"\\s+\",names=feature_name)\n",
    "    x_test = pd.read_csv('../ml/dataset/human_activity/test/X_test.txt',sep=\"\\s+\",names=feature_name)\n",
    "    \n",
    "    # 학습 레이블과 테스트 레이블 데이터를 DF로 할당 컬럼명은 action으로 부여\n",
    "    y_train = pd.read_csv('../ml/dataset/human_activity/train/y_train.txt',sep=\"\\s+\",header=None,names=['action'])\n",
    "    y_test = pd.read_csv('../ml/dataset/human_activity/test/y_test.txt',sep=\"\\s+\",header=None,names=['action'])\n",
    "    \n",
    "    # 로드된 학습/테스트용 DataFrame을 모두 변환\n",
    "    return x_train,x_test,y_train,y_test\n",
    "\n",
    "x_train,x_test,y_train,y_test=get_human_dataset()"
   ]
  },
  {
   "cell_type": "code",
   "execution_count": 11,
   "id": "72ad2e58",
   "metadata": {
    "ExecuteTime": {
     "end_time": "2023-02-02T05:24:35.003862Z",
     "start_time": "2023-02-02T05:23:05.103258Z"
    }
   },
   "outputs": [
    {
     "name": "stdout",
     "output_type": "stream",
     "text": [
      "랜덤포레스트 예측 정확도: 0.9236511706820495\n",
      "기본 하이퍼파라미터 {'bootstrap': True, 'ccp_alpha': 0.0, 'class_weight': None, 'criterion': 'gini', 'max_depth': None, 'max_features': 'sqrt', 'max_leaf_nodes': None, 'max_samples': None, 'min_impurity_decrease': 0.0, 'min_samples_leaf': 1, 'min_samples_split': 2, 'min_weight_fraction_leaf': 0.0, 'n_estimators': 100, 'n_jobs': None, 'oob_score': False, 'random_state': 156, 'verbose': 0, 'warm_start': False}\n"
     ]
    }
   ],
   "source": [
    "### 랜덤포레스트\n",
    "from sklearn.ensemble import RandomForestClassifier\n",
    "from sklearn.model_selection import GridSearchCV\n",
    "from sklearn.metrics import accuracy_score\n",
    "\n",
    "rf_clf = RandomForestClassifier(random_state=156)\n",
    "rf_clf.fit(x_train,y_train)\n",
    "pred = rf_clf.predict(x_test)\n",
    "accuracy = accuracy_score(y_test,pred)\n",
    "print(f'랜덤포레스트 예측 정확도: {accuracy}')\n",
    "print(f'기본 하이퍼파라미터 {rf_clf.get_params()}')\n",
    "\n",
    "\n",
    "### gridsearchcv\n",
    "from sklearn.model_selection import GridSearchCV\n",
    "\n",
    "## 하이퍼파라미터 gridsearchcv\n",
    "param = {'max_depth':[6,8,10,12],\n",
    "        'n_estimators':[100],\n",
    "        'min_samples_leaf':[8,12,18],\n",
    "        'min_samples_split':[8,16,20]}\n",
    "\n",
    "rf_clf = RandomForestClassifier(random_state=156,n_jobs=-1)\n",
    "grid_cv = GridSearchCV(rf_clf,param_grid=param,cv=2,scoring='accuracy',n_jobs=-1)\n",
    "grid_cv.fit(x_train,y_train)\n",
    "best_dt = grid_cv.best_estimator_\n",
    "\n",
    "### 변수선택\n",
    "ftf_importances_values = best_dt.feature_importances_\n",
    "importances = pd.Series(ftf_importances_values,index=x_train.columns)\n",
    "top10 = importances.sort_values(ascending=False)[:10]"
   ]
  },
  {
   "cell_type": "code",
   "execution_count": 12,
   "id": "2aaf45fe",
   "metadata": {
    "ExecuteTime": {
     "end_time": "2023-02-02T05:27:13.909453Z",
     "start_time": "2023-02-02T05:27:13.886159Z"
    }
   },
   "outputs": [],
   "source": [
    "top10_index = top10.index\n",
    "x_train_10 = x_train.loc[:,top10_index]\n",
    "x_test_10 = x_test.loc[:,top10_index]\n"
   ]
  },
  {
   "cell_type": "code",
   "execution_count": 13,
   "id": "c2c19727",
   "metadata": {
    "ExecuteTime": {
     "end_time": "2023-02-02T05:44:11.891633Z",
     "start_time": "2023-02-02T05:43:43.916780Z"
    }
   },
   "outputs": [
    {
     "name": "stdout",
     "output_type": "stream",
     "text": [
      "0.5225653206650831\n",
      "0.6386155412283678\n"
     ]
    }
   ],
   "source": [
    "from sklearn.svm import SVC\n",
    "from sklearn.model_selection import GridSearchCV\n",
    "from sklearn.metrics import accuracy_score\n",
    "import warnings\n",
    "warnings.filterwarnings('ignore')\n",
    "\n",
    "\n",
    "clf = SVC(gamma=0.001,C=100)\n",
    "clf.fit(x_train_10,y_train)\n",
    "pred = clf.predict(x_test_10)\n",
    "acc = accuracy_score(y_test,pred)\n",
    "\n",
    "print(acc)\n",
    "\n",
    "pram = {'C':[1,10,100],\n",
    "       'gamma':[0.1,0.01,0.001]}\n",
    "grid = GridSearchCV(clf,param_grid=pram,cv=2,scoring=\"accuracy\")\n",
    "grid.fit(x_train_10,y_train)\n",
    "best_clf = grid.best_estimator_\n",
    "best_pred = best_clf.predict(x_test_10)\n",
    "best_acc = accuracy_score(y_test,best_pred)\n",
    "\n",
    "print(best_acc)"
   ]
  }
 ],
 "metadata": {
  "kernelspec": {
   "display_name": "Python 3",
   "language": "python",
   "name": "python3"
  },
  "language_info": {
   "codemirror_mode": {
    "name": "ipython",
    "version": 3
   },
   "file_extension": ".py",
   "mimetype": "text/x-python",
   "name": "python",
   "nbconvert_exporter": "python",
   "pygments_lexer": "ipython3",
   "version": "3.11.1"
  },
  "toc": {
   "base_numbering": 1,
   "nav_menu": {},
   "number_sections": true,
   "sideBar": true,
   "skip_h1_title": false,
   "title_cell": "Table of Contents",
   "title_sidebar": "Contents",
   "toc_cell": false,
   "toc_position": {},
   "toc_section_display": true,
   "toc_window_display": false
  },
  "varInspector": {
   "cols": {
    "lenName": 16,
    "lenType": 16,
    "lenVar": 40
   },
   "kernels_config": {
    "python": {
     "delete_cmd_postfix": "",
     "delete_cmd_prefix": "del ",
     "library": "var_list.py",
     "varRefreshCmd": "print(var_dic_list())"
    },
    "r": {
     "delete_cmd_postfix": ") ",
     "delete_cmd_prefix": "rm(",
     "library": "var_list.r",
     "varRefreshCmd": "cat(var_dic_list()) "
    }
   },
   "types_to_exclude": [
    "module",
    "function",
    "builtin_function_or_method",
    "instance",
    "_Feature"
   ],
   "window_display": false
  },
  "vscode": {
   "interpreter": {
    "hash": "34842669f687100a017beba2ca3364ba447fdc5f9ae9c33694136bf289a188fc"
   }
  }
 },
 "nbformat": 4,
 "nbformat_minor": 5
}
