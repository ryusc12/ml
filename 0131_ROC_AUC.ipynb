{
 "cells": [
  {
   "attachments": {},
   "cell_type": "markdown",
   "metadata": {},
   "source": [
    "### sklearn.metrics.roc_curve\n",
    "sklearn.metrics.roc_curve(_y_true_, _y_score_, _*_, _pos_label=None_, _sample_weight=None_, _drop_intermediate=True_)[[site Link]](https://github.com/scikit-learn/scikit-learn/blob/7db5b6a98/sklearn/metrics/_ranking.py#L904)[¶](https://scikit-learn.org/stable/modules/generated/sklearn.metrics.roc_curve.html#sklearn.metrics.roc_curve \"Permalink to this definition\")\n",
    "\n",
    "\n",
    "\n",
    "Returns:\n",
    "\n",
    "**fpr**ndarray of shape (>2,)\n",
    "\n",
    "Increasing false positive rates such that element i is the false positive rate of predictions with score >=  `thresholds[i]`.\n",
    "\n",
    "**tpr**ndarray of shape (>2,)\n",
    "\n",
    "Increasing true positive rates such that element  `i`  is the true positive rate of predictions with score >=  `thresholds[i]`.\n",
    "\n",
    "**thresholds**ndarray of shape = (n_thresholds,)\n",
    "\n",
    "Decreasing thresholds on the decision function used to compute fpr and tpr.  `thresholds[0]`  represents no instances being predicted and is arbitrarily set to  `max(y_score)  +  1`.\n",
    "\n",
    "\n",
    "thresholds : 기준값"
   ]
  },
  {
   "cell_type": "code",
   "execution_count": 17,
   "metadata": {},
   "outputs": [],
   "source": [
    "import pandas as pd\n",
    "from sklearn.preprocessing import LabelEncoder\n",
    "from sklearn.linear_model import LogisticRegression\n",
    "\n",
    "train_df = pd.read_csv('../ml/titanic_train.csv')\n",
    "test_df = pd.read_csv('../ml/titanic_test.csv')\n",
    "y_test = pd.read_csv('../ml/gender_submission.csv')\n",
    "y_test = y_test['Survived']\n",
    "\n",
    "# Null 처리 함수. \n",
    "def fillna(df):\n",
    "    df['Age'].fillna(df['Age'].mean(), inplace=True)\n",
    "    df['Cabin'].fillna('N', inplace=True)\n",
    "    df['Embarked'].fillna('N', inplace=True)\n",
    "    df['Fare'].fillna(0, inplace=True)\n",
    "    return df\n",
    "# 불필요한 속성 제거\n",
    "def drop_features(df):\n",
    "    df.drop(['PassengerId','Name','Ticket','SibSp','Parch','Fare'], axis=1, inplace = True)\n",
    "    return df\n",
    "\n",
    "# 레이블 인코딩\n",
    "def format_features(df):\n",
    "    df['Cabin'] = df['Cabin'].str[:1]\n",
    "    features = ['Cabin', 'Sex', 'Embarked']\n",
    "    for feature in features:\n",
    "        LE = LabelEncoder()\n",
    "        LE = LE.fit(df[feature])\n",
    "        df[feature] = LE.transform(df[feature])\n",
    "    return df\n",
    "\n",
    "# 앞에서 설정한 Data Preprocessing  함수 호출\n",
    "def transform_features(df):\n",
    "    df = fillna(df)\n",
    "    df = drop_features(df)\n",
    "    df = format_features(df)\n",
    "    return df\n",
    "\n",
    "train_df = transform_features(train_df)\n",
    "test_df = transform_features(test_df)\n",
    "\n",
    "# label, features\n",
    "x_train = train_df.drop(\"Survived\", axis =1)\n",
    "y_train = train_df['Survived']\n",
    "x_test = test_df\n",
    "\n",
    "## logistic regression\n",
    "lr = LogisticRegression()\n",
    "lr.fit(x_train, y_train)\n",
    "pred = lr.predict(x_test)\n",
    "pred_proba = lr.predict_proba(x_test)\n",
    "\n",
    "\n",
    "\n"
   ]
  },
  {
   "cell_type": "code",
   "execution_count": 20,
   "metadata": {},
   "outputs": [
    {
     "name": "stdout",
     "output_type": "stream",
     "text": [
      "0.9287925696594427\n"
     ]
    }
   ],
   "source": [
    "from sklearn.metrics import f1_score\n",
    "import numpy as np\n",
    "\n",
    "f1 = f1_score(y_test, pred)\n",
    "print(f1)"
   ]
  },
  {
   "cell_type": "code",
   "execution_count": null,
   "metadata": {},
   "outputs": [],
   "source": [
    "from sklearn.metrics import roc_curve\n",
    "import matplotlib.pyplot as plt\n",
    "\n",
    "# 레이블 값이 1일 때 예측 확률 축출\n",
    "pred_proba_class1 = lr.predict_proba(x_test)[:,1]\n",
    "\n",
    "fprs, tprs, thresholds = roc_curve(y_test, pred_proba_class1)\n",
    "# 반환된 임계값 배열에서 샘플로 데이터를 축출하되, 임계값을 5step으로 축출. \n",
    "# thresholds[0]은 max(예측확률) +1로 임의 설정됨. 이를 제외하기 위해 np.arange는 1부터 시작된다. \n",
    "\n",
    "thr_index = np.arange(1, thresholds.shape[0],5)\n",
    "print('샘플 index로 추출한 임계값:', np.round(thresholds[thr_index],2),\"\\n\")\n",
    "## shape는 모양을 나타낸다. \n",
    "\n",
    "# 임계값에 따른 FPR, TPR\n",
    "print('fpr:', np.round(fprs[thr_index],2),\"\\n\")\n",
    "print('tpr:', np.round(tprs[thr_index],2))\n",
    "\n"
   ]
  }
 ],
 "metadata": {
  "kernelspec": {
   "display_name": "Python 3",
   "language": "python",
   "name": "python3"
  },
  "language_info": {
   "codemirror_mode": {
    "name": "ipython",
    "version": 3
   },
   "file_extension": ".py",
   "mimetype": "text/x-python",
   "name": "python",
   "nbconvert_exporter": "python",
   "pygments_lexer": "ipython3",
   "version": "3.11.1 (tags/v3.11.1:a7a450f, Dec  6 2022, 19:58:39) [MSC v.1934 64 bit (AMD64)]"
  },
  "orig_nbformat": 4,
  "vscode": {
   "interpreter": {
    "hash": "34842669f687100a017beba2ca3364ba447fdc5f9ae9c33694136bf289a188fc"
   }
  }
 },
 "nbformat": 4,
 "nbformat_minor": 2
}
