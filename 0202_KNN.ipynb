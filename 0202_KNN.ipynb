{
 "cells": [
  {
   "attachments": {},
   "cell_type": "markdown",
   "metadata": {},
   "source": [
    "### KNN"
   ]
  },
  {
   "cell_type": "code",
   "execution_count": 5,
   "metadata": {},
   "outputs": [
    {
     "name": "stdout",
     "output_type": "stream",
     "text": [
      "['sepal length (cm)', 'sepal width (cm)', 'petal length (cm)', 'petal width (cm)']\n",
      "['setosa' 'versicolor' 'virginica']\n",
      "[5.1 3.5 1.4 0.2]\n",
      "0\n",
      "Exaple 0: label 0, feature [5.1 3.5 1.4 0.2]\n",
      "Exaple 1: label 0, feature [4.9 3.  1.4 0.2]\n",
      "Exaple 2: label 0, feature [4.7 3.2 1.3 0.2]\n",
      "Exaple 3: label 0, feature [4.6 3.1 1.5 0.2]\n",
      "Exaple 4: label 0, feature [5.  3.6 1.4 0.2]\n",
      "Exaple 5: label 0, feature [5.4 3.9 1.7 0.4]\n",
      "Exaple 6: label 0, feature [4.6 3.4 1.4 0.3]\n",
      "Exaple 7: label 0, feature [5.  3.4 1.5 0.2]\n",
      "Exaple 8: label 0, feature [4.4 2.9 1.4 0.2]\n",
      "Exaple 9: label 0, feature [4.9 3.1 1.5 0.1]\n",
      "Exaple 10: label 0, feature [5.4 3.7 1.5 0.2]\n",
      "Exaple 11: label 0, feature [4.8 3.4 1.6 0.2]\n",
      "Exaple 12: label 0, feature [4.8 3.  1.4 0.1]\n",
      "Exaple 13: label 0, feature [4.3 3.  1.1 0.1]\n",
      "Exaple 14: label 0, feature [5.8 4.  1.2 0.2]\n",
      "Exaple 15: label 0, feature [5.7 4.4 1.5 0.4]\n",
      "Exaple 16: label 0, feature [5.4 3.9 1.3 0.4]\n",
      "Exaple 17: label 0, feature [5.1 3.5 1.4 0.3]\n",
      "Exaple 18: label 0, feature [5.7 3.8 1.7 0.3]\n",
      "Exaple 19: label 0, feature [5.1 3.8 1.5 0.3]\n",
      "Exaple 20: label 0, feature [5.4 3.4 1.7 0.2]\n",
      "Exaple 21: label 0, feature [5.1 3.7 1.5 0.4]\n",
      "Exaple 22: label 0, feature [4.6 3.6 1.  0.2]\n",
      "Exaple 23: label 0, feature [5.1 3.3 1.7 0.5]\n",
      "Exaple 24: label 0, feature [4.8 3.4 1.9 0.2]\n",
      "Exaple 25: label 0, feature [5.  3.  1.6 0.2]\n",
      "Exaple 26: label 0, feature [5.  3.4 1.6 0.4]\n",
      "Exaple 27: label 0, feature [5.2 3.5 1.5 0.2]\n",
      "Exaple 28: label 0, feature [5.2 3.4 1.4 0.2]\n",
      "Exaple 29: label 0, feature [4.7 3.2 1.6 0.2]\n",
      "Exaple 30: label 0, feature [4.8 3.1 1.6 0.2]\n",
      "Exaple 31: label 0, feature [5.4 3.4 1.5 0.4]\n",
      "Exaple 32: label 0, feature [5.2 4.1 1.5 0.1]\n",
      "Exaple 33: label 0, feature [5.5 4.2 1.4 0.2]\n",
      "Exaple 34: label 0, feature [4.9 3.1 1.5 0.2]\n",
      "Exaple 35: label 0, feature [5.  3.2 1.2 0.2]\n",
      "Exaple 36: label 0, feature [5.5 3.5 1.3 0.2]\n",
      "Exaple 37: label 0, feature [4.9 3.6 1.4 0.1]\n",
      "Exaple 38: label 0, feature [4.4 3.  1.3 0.2]\n",
      "Exaple 39: label 0, feature [5.1 3.4 1.5 0.2]\n",
      "Exaple 40: label 0, feature [5.  3.5 1.3 0.3]\n",
      "Exaple 41: label 0, feature [4.5 2.3 1.3 0.3]\n",
      "Exaple 42: label 0, feature [4.4 3.2 1.3 0.2]\n",
      "Exaple 43: label 0, feature [5.  3.5 1.6 0.6]\n",
      "Exaple 44: label 0, feature [5.1 3.8 1.9 0.4]\n",
      "Exaple 45: label 0, feature [4.8 3.  1.4 0.3]\n",
      "Exaple 46: label 0, feature [5.1 3.8 1.6 0.2]\n",
      "Exaple 47: label 0, feature [4.6 3.2 1.4 0.2]\n",
      "Exaple 48: label 0, feature [5.3 3.7 1.5 0.2]\n",
      "Exaple 49: label 0, feature [5.  3.3 1.4 0.2]\n",
      "Exaple 50: label 1, feature [7.  3.2 4.7 1.4]\n",
      "Exaple 51: label 1, feature [6.4 3.2 4.5 1.5]\n",
      "Exaple 52: label 1, feature [6.9 3.1 4.9 1.5]\n",
      "Exaple 53: label 1, feature [5.5 2.3 4.  1.3]\n",
      "Exaple 54: label 1, feature [6.5 2.8 4.6 1.5]\n",
      "Exaple 55: label 1, feature [5.7 2.8 4.5 1.3]\n",
      "Exaple 56: label 1, feature [6.3 3.3 4.7 1.6]\n",
      "Exaple 57: label 1, feature [4.9 2.4 3.3 1. ]\n",
      "Exaple 58: label 1, feature [6.6 2.9 4.6 1.3]\n",
      "Exaple 59: label 1, feature [5.2 2.7 3.9 1.4]\n",
      "Exaple 60: label 1, feature [5.  2.  3.5 1. ]\n",
      "Exaple 61: label 1, feature [5.9 3.  4.2 1.5]\n",
      "Exaple 62: label 1, feature [6.  2.2 4.  1. ]\n",
      "Exaple 63: label 1, feature [6.1 2.9 4.7 1.4]\n",
      "Exaple 64: label 1, feature [5.6 2.9 3.6 1.3]\n",
      "Exaple 65: label 1, feature [6.7 3.1 4.4 1.4]\n",
      "Exaple 66: label 1, feature [5.6 3.  4.5 1.5]\n",
      "Exaple 67: label 1, feature [5.8 2.7 4.1 1. ]\n",
      "Exaple 68: label 1, feature [6.2 2.2 4.5 1.5]\n",
      "Exaple 69: label 1, feature [5.6 2.5 3.9 1.1]\n",
      "Exaple 70: label 1, feature [5.9 3.2 4.8 1.8]\n",
      "Exaple 71: label 1, feature [6.1 2.8 4.  1.3]\n",
      "Exaple 72: label 1, feature [6.3 2.5 4.9 1.5]\n",
      "Exaple 73: label 1, feature [6.1 2.8 4.7 1.2]\n",
      "Exaple 74: label 1, feature [6.4 2.9 4.3 1.3]\n",
      "Exaple 75: label 1, feature [6.6 3.  4.4 1.4]\n",
      "Exaple 76: label 1, feature [6.8 2.8 4.8 1.4]\n",
      "Exaple 77: label 1, feature [6.7 3.  5.  1.7]\n",
      "Exaple 78: label 1, feature [6.  2.9 4.5 1.5]\n",
      "Exaple 79: label 1, feature [5.7 2.6 3.5 1. ]\n",
      "Exaple 80: label 1, feature [5.5 2.4 3.8 1.1]\n",
      "Exaple 81: label 1, feature [5.5 2.4 3.7 1. ]\n",
      "Exaple 82: label 1, feature [5.8 2.7 3.9 1.2]\n",
      "Exaple 83: label 1, feature [6.  2.7 5.1 1.6]\n",
      "Exaple 84: label 1, feature [5.4 3.  4.5 1.5]\n",
      "Exaple 85: label 1, feature [6.  3.4 4.5 1.6]\n",
      "Exaple 86: label 1, feature [6.7 3.1 4.7 1.5]\n",
      "Exaple 87: label 1, feature [6.3 2.3 4.4 1.3]\n",
      "Exaple 88: label 1, feature [5.6 3.  4.1 1.3]\n",
      "Exaple 89: label 1, feature [5.5 2.5 4.  1.3]\n",
      "Exaple 90: label 1, feature [5.5 2.6 4.4 1.2]\n",
      "Exaple 91: label 1, feature [6.1 3.  4.6 1.4]\n",
      "Exaple 92: label 1, feature [5.8 2.6 4.  1.2]\n",
      "Exaple 93: label 1, feature [5.  2.3 3.3 1. ]\n",
      "Exaple 94: label 1, feature [5.6 2.7 4.2 1.3]\n",
      "Exaple 95: label 1, feature [5.7 3.  4.2 1.2]\n",
      "Exaple 96: label 1, feature [5.7 2.9 4.2 1.3]\n",
      "Exaple 97: label 1, feature [6.2 2.9 4.3 1.3]\n",
      "Exaple 98: label 1, feature [5.1 2.5 3.  1.1]\n",
      "Exaple 99: label 1, feature [5.7 2.8 4.1 1.3]\n",
      "Exaple 100: label 2, feature [6.3 3.3 6.  2.5]\n",
      "Exaple 101: label 2, feature [5.8 2.7 5.1 1.9]\n",
      "Exaple 102: label 2, feature [7.1 3.  5.9 2.1]\n",
      "Exaple 103: label 2, feature [6.3 2.9 5.6 1.8]\n",
      "Exaple 104: label 2, feature [6.5 3.  5.8 2.2]\n",
      "Exaple 105: label 2, feature [7.6 3.  6.6 2.1]\n",
      "Exaple 106: label 2, feature [4.9 2.5 4.5 1.7]\n",
      "Exaple 107: label 2, feature [7.3 2.9 6.3 1.8]\n",
      "Exaple 108: label 2, feature [6.7 2.5 5.8 1.8]\n",
      "Exaple 109: label 2, feature [7.2 3.6 6.1 2.5]\n",
      "Exaple 110: label 2, feature [6.5 3.2 5.1 2. ]\n",
      "Exaple 111: label 2, feature [6.4 2.7 5.3 1.9]\n",
      "Exaple 112: label 2, feature [6.8 3.  5.5 2.1]\n",
      "Exaple 113: label 2, feature [5.7 2.5 5.  2. ]\n",
      "Exaple 114: label 2, feature [5.8 2.8 5.1 2.4]\n",
      "Exaple 115: label 2, feature [6.4 3.2 5.3 2.3]\n",
      "Exaple 116: label 2, feature [6.5 3.  5.5 1.8]\n",
      "Exaple 117: label 2, feature [7.7 3.8 6.7 2.2]\n",
      "Exaple 118: label 2, feature [7.7 2.6 6.9 2.3]\n",
      "Exaple 119: label 2, feature [6.  2.2 5.  1.5]\n",
      "Exaple 120: label 2, feature [6.9 3.2 5.7 2.3]\n",
      "Exaple 121: label 2, feature [5.6 2.8 4.9 2. ]\n",
      "Exaple 122: label 2, feature [7.7 2.8 6.7 2. ]\n",
      "Exaple 123: label 2, feature [6.3 2.7 4.9 1.8]\n",
      "Exaple 124: label 2, feature [6.7 3.3 5.7 2.1]\n",
      "Exaple 125: label 2, feature [7.2 3.2 6.  1.8]\n",
      "Exaple 126: label 2, feature [6.2 2.8 4.8 1.8]\n",
      "Exaple 127: label 2, feature [6.1 3.  4.9 1.8]\n",
      "Exaple 128: label 2, feature [6.4 2.8 5.6 2.1]\n",
      "Exaple 129: label 2, feature [7.2 3.  5.8 1.6]\n",
      "Exaple 130: label 2, feature [7.4 2.8 6.1 1.9]\n",
      "Exaple 131: label 2, feature [7.9 3.8 6.4 2. ]\n",
      "Exaple 132: label 2, feature [6.4 2.8 5.6 2.2]\n",
      "Exaple 133: label 2, feature [6.3 2.8 5.1 1.5]\n",
      "Exaple 134: label 2, feature [6.1 2.6 5.6 1.4]\n",
      "Exaple 135: label 2, feature [7.7 3.  6.1 2.3]\n",
      "Exaple 136: label 2, feature [6.3 3.4 5.6 2.4]\n",
      "Exaple 137: label 2, feature [6.4 3.1 5.5 1.8]\n",
      "Exaple 138: label 2, feature [6.  3.  4.8 1.8]\n",
      "Exaple 139: label 2, feature [6.9 3.1 5.4 2.1]\n",
      "Exaple 140: label 2, feature [6.7 3.1 5.6 2.4]\n",
      "Exaple 141: label 2, feature [6.9 3.1 5.1 2.3]\n",
      "Exaple 142: label 2, feature [5.8 2.7 5.1 1.9]\n",
      "Exaple 143: label 2, feature [6.8 3.2 5.9 2.3]\n",
      "Exaple 144: label 2, feature [6.7 3.3 5.7 2.5]\n",
      "Exaple 145: label 2, feature [6.7 3.  5.2 2.3]\n",
      "Exaple 146: label 2, feature [6.3 2.5 5.  1.9]\n",
      "Exaple 147: label 2, feature [6.5 3.  5.2 2. ]\n",
      "Exaple 148: label 2, feature [6.2 3.4 5.4 2.3]\n",
      "Exaple 149: label 2, feature [5.9 3.  5.1 1.8]\n"
     ]
    },
    {
     "data": {
      "text/plain": [
       "<function matplotlib.pyplot.legend(*args, **kwargs)>"
      ]
     },
     "execution_count": 5,
     "metadata": {},
     "output_type": "execute_result"
    },
    {
     "data": {
      "image/png": "[encoded data removed]",
      "text/plain": [
       "<Figure size 640x480 with 1 Axes>"
      ]
     },
     "metadata": {},
     "output_type": "display_data"
    }
   ],
   "source": [
    "from sklearn.datasets import load_iris\n",
    "iris = load_iris()\n",
    "\n",
    "print(iris.feature_names)\n",
    "print(iris.target_names)\n",
    "print(iris.data[0])\n",
    "print(iris.target[0])\n",
    "\n",
    "\n",
    "for i in range(len(iris.target)): \n",
    "    print(\"Exaple %d: label %s, feature %s\" % (i, iris.target[i], iris.data[i]))\n",
    "\n",
    "import matplotlib.pyplot as plt\n",
    "\n",
    "sepal = iris.data[:, 0:2]\n",
    "kind = iris.target\n",
    "plt.xlabel('Sepal Length')\n",
    "plt.ylabel('Sepal Width')\n",
    "plt.plot(sepal[kind==0][:,0], sepal[kind==0][:,1],\"ro\", label='Setosa')\n",
    "plt.plot(sepal[kind==1][:,0], sepal[kind==0][:,1],\"bo\", label='Versicolor')\n",
    "plt.plot(sepal[kind==2][:,0], sepal[kind==0][:,1],\"yo\", label='Virginica')\n",
    "plt.legend"
   ]
  },
  {
   "cell_type": "code",
   "execution_count": 11,
   "metadata": {},
   "outputs": [
    {
     "name": "stdout",
     "output_type": "stream",
     "text": [
      "(120, 4)\n",
      "(30, 4)\n"
     ]
    }
   ],
   "source": [
    "##KNN 학습\n",
    "\n",
    "from sklearn.model_selection import train_test_split\n",
    "\n",
    "X = iris.data\n",
    "y = iris.target\n",
    "\n",
    "# (80:20)으로 분할\n",
    "X_train, X_test, y_train, y_test = train_test_split(X, y, test_size=0.2, random_state=4)\n",
    "\n",
    "print(X_train.shape)\n",
    "print(X_test.shape)"
   ]
  },
  {
   "cell_type": "code",
   "execution_count": 13,
   "metadata": {},
   "outputs": [
    {
     "data": {
      "text/plain": [
       "0.9666666666666667"
      ]
     },
     "execution_count": 13,
     "metadata": {},
     "output_type": "execute_result"
    }
   ],
   "source": [
    "## 새로운 데이터 학습. \n",
    "from sklearn.neighbors import KNeighborsClassifier\n",
    "from sklearn import metrics\n",
    "\n",
    "knn = KNeighborsClassifier(n_neighbors=6)\n",
    "knn.fit(X_train, y_train)\n",
    "\n",
    "y_pred = knn.predict(X_test)\n",
    "scores = metrics.accuracy_score(y_test, y_pred)\n",
    "scores"
   ]
  },
  {
   "cell_type": "code",
   "execution_count": 14,
   "metadata": {},
   "outputs": [
    {
     "name": "stdout",
     "output_type": "stream",
     "text": [
      "versicolor\n",
      "setosa\n"
     ]
    }
   ],
   "source": [
    "knn = KNeighborsClassifier(n_neighbors=5)\n",
    "knn.fit(X, y)\n",
    "\n",
    "# 0 = setosa, 1= versicolor, 2=virginica\n",
    "classes= {0:'setosa', 1:'versicolor', 2:'virginica'}\n",
    "\n",
    "# 아직 보지 못한 새로운 데이터를 제시해보자.\n",
    "x_new = [[3,4,5,2],\n",
    "    [5,4,2,2]]\n",
    "y_predict = knn.predict(x_new)\n",
    "\n",
    "print(classes[y_predict[0]])\n",
    "print(classes[y_predict[1]])"
   ]
  }
 ],
 "metadata": {
  "kernelspec": {
   "display_name": "Python 3",
   "language": "python",
   "name": "python3"
  },
  "language_info": {
   "codemirror_mode": {
    "name": "ipython",
    "version": 3
   },
   "file_extension": ".py",
   "mimetype": "text/x-python",
   "name": "python",
   "nbconvert_exporter": "python",
   "pygments_lexer": "ipython3",
   "version": "3.11.1"
  },
  "orig_nbformat": 4,
  "vscode": {
   "interpreter": {
    "hash": "34842669f687100a017beba2ca3364ba447fdc5f9ae9c33694136bf289a188fc"
   }
  }
 },
 "nbformat": 4,
 "nbformat_minor": 2
}
