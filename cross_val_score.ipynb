{
 "cells": [
  {
   "attachments": {},
   "cell_type": "markdown",
   "metadata": {},
   "source": [
    "### 1.sklearn.model_selection.cross_val_score¶\n",
    "sklearn.model_selection.cross_val_score(_estimator_,  _X_,  _y=None_,  _*_,  _groups=None_,  _scoring=None_,  _cv=None_,  _n_jobs=None_,  _verbose=0_,  _fit_params=None_,  _pre_dispatch='2*n_jobs'_,  _error_score=nan_)[[source]](https://github.com/scikit-learn/scikit-learn/blob/ff1023fda/sklearn/model_selection/_validation.py#L381)[](https://scikit-learn.org/stable/modules/generated/sklearn.model_selection.cross_val_score.html#sklearn.model_selection.cross_val_score \"Permalink to this definition\")\n"
   ]
  },
  {
   "cell_type": "code",
   "execution_count": null,
   "metadata": {},
   "outputs": [],
   "source": [
    "## estimator : 알고리즘 (dt_clf), in parallel(병렬), verbose(수다쟁이...)\n",
    "## error_score, "
   ]
  },
  {
   "cell_type": "code",
   "execution_count": 5,
   "metadata": {},
   "outputs": [
    {
     "name": "stdout",
     "output_type": "stream",
     "text": [
      "교차 검증별 정확도: [0.98 0.94 0.98]\n",
      "평균 검증 정확도: 0.9667\n"
     ]
    }
   ],
   "source": [
    "from sklearn.tree import DecisionTreeClassifier  ## 지도학습 명령어 \n",
    "## decisiontree \n",
    "## parameter 매개변수. \n",
    "from sklearn.model_selection import cross_val_score , cross_validate\n",
    "from sklearn.datasets import load_iris\n",
    "import numpy as np \n",
    "\n",
    "iris_data = load_iris()  \n",
    "dt_clf = DecisionTreeClassifier(random_state=156)\n",
    "\n",
    "data = iris_data.data\n",
    "label = iris_data.target\n",
    "\n",
    "# 성능지표는 정확도(accuracy), 교차검증 세트는 3개\n",
    "# kFold, StratifiedKfod 대신 사용. 한줄로 요약 됨. \n",
    "score = cross_val_score(dt_clf, data, label, scoring='accuracy', cv=3)\n",
    "print('교차 검증별 정확도:', np.round(score, 4))\n",
    "print('평균 검증 정확도:', np.round(np.mean(score), 4))"
   ]
  },
  {
   "cell_type": "code",
   "execution_count": null,
   "metadata": {},
   "outputs": [],
   "source": [
    "## GridSerachCV &&&"
   ]
  }
 ],
 "metadata": {
  "kernelspec": {
   "display_name": "Python 3",
   "language": "python",
   "name": "python3"
  },
  "language_info": {
   "codemirror_mode": {
    "name": "ipython",
    "version": 3
   },
   "file_extension": ".py",
   "mimetype": "text/x-python",
   "name": "python",
   "nbconvert_exporter": "python",
   "pygments_lexer": "ipython3",
   "version": "3.11.1"
  },
  "orig_nbformat": 4,
  "vscode": {
   "interpreter": {
    "hash": "34842669f687100a017beba2ca3364ba447fdc5f9ae9c33694136bf289a188fc"
   }
  }
 },
 "nbformat": 4,
 "nbformat_minor": 2
}
