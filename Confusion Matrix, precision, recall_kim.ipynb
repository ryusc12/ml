{
 "cells": [
  {
   "cell_type": "markdown",
   "id": "6d76301c",
   "metadata": {},
   "source": [
    "### sklearn.metrics.confusion_matrix\n",
    "* sklearn.metrics.confusion_matrix(_y_true_, _y_pred_, _*_, _labels=None_, _sample_weight=None_, _normalize=None_)[[source]](https://github.com/scikit-learn/scikit-learn/blob/f3f51f9b6/sklearn/metrics/_classification.py#L222)[¶](https://scikit-learn.org/1.1/modules/generated/sklearn.metrics.confusion_matrix.html?highlight=confusion#sklearn.metrics.confusion_matrix \"Permalink to this definition\")"
   ]
  },
  {
   "cell_type": "code",
   "execution_count": 9,
   "id": "d6faaf8c",
   "metadata": {
    "ExecuteTime": {
     "end_time": "2023-01-31T02:24:36.534332Z",
     "start_time": "2023-01-31T02:24:36.521419Z"
    }
   },
   "outputs": [],
   "source": [
    "import numpy as np\n",
    "\n",
    "y_test = list(np.zeros(405))+ list(np.ones(45))"
   ]
  },
  {
   "cell_type": "code",
   "execution_count": 10,
   "id": "7a9c8e0d",
   "metadata": {
    "ExecuteTime": {
     "end_time": "2023-01-31T02:24:37.389136Z",
     "start_time": "2023-01-31T02:24:37.377139Z"
    }
   },
   "outputs": [],
   "source": [
    "fakepred = list(np.zeros(442)) + list(np.ones(8))"
   ]
  },
  {
   "cell_type": "code",
   "execution_count": 11,
   "id": "fe12e4f9",
   "metadata": {
    "ExecuteTime": {
     "end_time": "2023-01-31T02:24:39.131839Z",
     "start_time": "2023-01-31T02:24:39.103081Z"
    }
   },
   "outputs": [
    {
     "data": {
      "text/plain": [
       "array([[405,   0],\n",
       "       [ 37,   8]], dtype=int64)"
      ]
     },
     "execution_count": 11,
     "metadata": {},
     "output_type": "execute_result"
    }
   ],
   "source": [
    "from sklearn.metrics import confusion_matrix\n",
    "\n",
    "confusion_matrix(y_test, fakepred)"
   ]
  },
  {
   "cell_type": "markdown",
   "id": "fd174003",
   "metadata": {},
   "source": [
    "#### sklearn.metrics.precision_score\n",
    "* sklearn.metrics.precision_score(_y_true_,  _y_pred_,  _*_,  _labels=None_,  _pos_label=1_,  _average='binary'_,  _sample_weight=None_,  _zero_division='warn'_)[[source]](https://github.com/scikit-learn/scikit-learn/blob/f3f51f9b6/sklearn/metrics/_classification.py#L1647)[](https://scikit-learn.org/1.1/modules/generated/sklearn.metrics.precision_score.html?highlight=precision+score#sklearn.metrics.precision_score \"Permalink to this definition\")\n",
    "\n",
    "#### sklearn.metrics.recall_score\n",
    "* sklearn.metrics.recall_score(_y_true_,  _y_pred_,  _*_,  _labels=None_,  _pos_label=1_,  _average='binary'_,  _sample_weight=None_,  _zero_division='warn'_)[[source]](https://github.com/scikit-learn/scikit-learn/blob/f3f51f9b6/sklearn/metrics/_classification.py#L1789)[](https://scikit-learn.org/1.1/modules/generated/sklearn.metrics.recall_score.html?highlight=recall+score#sklearn.metrics.recall_score \"Permalink to this definition\")"
   ]
  },
  {
   "cell_type": "code",
   "execution_count": 13,
   "id": "066a66d4",
   "metadata": {
    "ExecuteTime": {
     "end_time": "2023-01-31T02:25:06.747490Z",
     "start_time": "2023-01-31T02:25:06.718544Z"
    }
   },
   "outputs": [
    {
     "name": "stdout",
     "output_type": "stream",
     "text": [
      "정밀도: 1.0\n",
      "재현율: 0.17777777777777778\n"
     ]
    }
   ],
   "source": [
    "from sklearn.metrics import accuracy_score, precision_score, recall_score\n",
    "\n",
    "print(\"정밀도:\", precision_score(y_test, fakepred))\n",
    "print(\"재현율:\", recall_score(y_test, fakepred))"
   ]
  },
  {
   "cell_type": "code",
   "execution_count": 15,
   "id": "1ad65b2d",
   "metadata": {
    "ExecuteTime": {
     "end_time": "2023-01-31T02:27:18.440275Z",
     "start_time": "2023-01-31T02:27:18.418376Z"
    }
   },
   "outputs": [
    {
     "data": {
      "text/plain": [
       "0.17777777777777778"
      ]
     },
     "execution_count": 15,
     "metadata": {},
     "output_type": "execute_result"
    }
   ],
   "source": [
    "8/(37+8)"
   ]
  },
  {
   "cell_type": "markdown",
   "id": "39fcce8d",
   "metadata": {},
   "source": [
    "### precision_recall_curve()"
   ]
  },
  {
   "cell_type": "code",
   "execution_count": 20,
   "id": "a9b9291e",
   "metadata": {
    "ExecuteTime": {
     "end_time": "2023-01-31T05:05:23.701756Z",
     "start_time": "2023-01-31T05:05:23.540571Z"
    }
   },
   "outputs": [
    {
     "name": "stdout",
     "output_type": "stream",
     "text": [
      "[[0.90004657 0.09995343]\n",
      " [0.56777228 0.43222772]\n",
      " [0.89778678 0.10221322]\n",
      " [0.89259509 0.10740491]\n",
      " [0.36447892 0.63552108]\n",
      " [0.84377387 0.15622613]\n",
      " [0.3871788  0.6128212 ]\n",
      " [0.75912493 0.24087507]\n",
      " [0.26397839 0.73602161]\n",
      " [0.87198541 0.12801459]]\n",
      "[0 0 0 0 1 0 1 0 1 0]\n"
     ]
    }
   ],
   "source": [
    "import pandas as pd\n",
    "from sklearn.preprocessing import LabelEncoder\n",
    "from sklearn.linear_model import LogisticRegression\n",
    "titanic_df = pd.read_csv('./datasets/titanic_train.csv')\n",
    "titanic_test_df = pd.read_csv('./datasets/titanic_test.csv')\n",
    "\n",
    "def fillna(df):\n",
    "    df['Age'].fillna(df['Age'].mean(), inplace=True)\n",
    "    df['Cabin'].fillna('N', inplace=True)\n",
    "    df['Embarked'].fillna('N', inplace=True)\n",
    "    df['Fare'].fillna(0, inplace=True)\n",
    "    return df\n",
    "\n",
    "def drop_features(df):\n",
    "    df.drop(['PassengerId', 'Name', 'Ticket', 'SibSp', 'Parch', 'Fare'], axis=1, inplace=True)\n",
    "    return df\n",
    "\n",
    "def format_features(df):\n",
    "    df['Cabin'] = df['Cabin'].str[:1]\n",
    "    features = ['Cabin', 'Sex', 'Embarked']\n",
    "    for feature in features:\n",
    "        le = LabelEncoder()\n",
    "        le = le.fit(df[feature])\n",
    "        df[feature] = le.transform(df[feature])\n",
    "    return df\n",
    "\n",
    "def transform_features(df):\n",
    "    df = fillna(df)\n",
    "    df = drop_features(df)\n",
    "    df = format_features(df)\n",
    "    return df\n",
    "\n",
    "# 앞에서 설정한 Data\n",
    "titanic_df_1 = transform_features(titanic_df)\n",
    "titanic_test_df_1 = transform_features(titanic_test_df)\n",
    "\n",
    "label = titanic_df_1['Survived']\n",
    "features = titanic_df_1.drop(columns='Survived')\n",
    "\n",
    "Ir_clf = LogisticRegression()\n",
    "Ir_clf.fit(features, label)\n",
    "Ir_pred = Ir_clf.predict(titanic_test_df_1)\n",
    "\n",
    "pred_proba = Ir_clf.predict_proba(titanic_test_df_1)\n",
    "print(pred_proba[:10])\n",
    "print(Ir_pred[:10])"
   ]
  },
  {
   "cell_type": "code",
   "execution_count": null,
   "id": "14be99a9",
   "metadata": {},
   "outputs": [],
   "source": [
    "from sklearn.preprocessing"
   ]
  },
  {
   "cell_type": "code",
   "execution_count": 33,
   "id": "e6bef883",
   "metadata": {
    "ExecuteTime": {
     "end_time": "2023-01-31T05:49:01.326641Z",
     "start_time": "2023-01-31T05:49:01.301500Z"
    }
   },
   "outputs": [],
   "source": [
    "import numpy as np\n",
    "from sklearn.metrics import accuracy_score, precision_score, recall_score, confusion_matrix\n",
    "from sklearn.preprocessing import Binarizer\n",
    "y_test = pd.read_csv('./datasets/gender_submission.csv')\n",
    "y_test = y_test['Survived']\n",
    "threshold_arr = np.linspace(start=0, stop=1, num=20, endpoint=False)\n",
    "\n",
    "def get_clf_eval(y_test, pred):    \n",
    "    precision = precision_score(y_test, pred)\n",
    "    recall = recall_score(y_test, pred)\n",
    "    return(precision, recall)"
   ]
  },
  {
   "cell_type": "code",
   "execution_count": 35,
   "id": "4f4b8beb",
   "metadata": {
    "ExecuteTime": {
     "end_time": "2023-01-31T05:51:07.072989Z",
     "start_time": "2023-01-31T05:51:06.755772Z"
    }
   },
   "outputs": [
    {
     "data": {
      "text/plain": [
       "[1.0,\n",
       " 1.0,\n",
       " 1.0,\n",
       " 1.0,\n",
       " 1.0,\n",
       " 1.0,\n",
       " 1.0,\n",
       " 1.0,\n",
       " 1.0,\n",
       " 0.9868421052631579,\n",
       " 0.9868421052631579,\n",
       " 0.9539473684210527,\n",
       " 0.8486842105263158,\n",
       " 0.6644736842105263,\n",
       " 0.5855263157894737,\n",
       " 0.5460526315789473,\n",
       " 0.4407894736842105,\n",
       " 0.32894736842105265,\n",
       " 0.19736842105263158,\n",
       " 0.05263157894736842]"
      ]
     },
     "execution_count": 35,
     "metadata": {},
     "output_type": "execute_result"
    }
   ],
   "source": [
    "precision_list = []\n",
    "recall_list = []\n",
    "for i in threshold_arr:\n",
    "    binarizer = Binarizer(threshold=i).fit(pred_proba[:,1].reshape(-1,1))\n",
    "    custom_predict = binarizer.transform(pred_proba[:,1].reshape(-1,1))\n",
    "    precision, recall = get_clf_eval(y_test, custom_predict)\n",
    "    precision_list.append(precision)\n",
    "    recall_list.append(recall)\n",
    "    \n",
    "recall_list"
   ]
  },
  {
   "cell_type": "markdown",
   "id": "9b45f2a6",
   "metadata": {},
   "source": [
    "### sklearn.metrics.precision_recall_curve\n",
    "* sklearn.metrics.precision_recall_curve(_y_true_, _probas_pred_, _*_, _pos_label=None_, _sample_weight=None_)[[source]](https://github.com/scikit-learn/scikit-learn/blob/f3f51f9b6/sklearn/metrics/_ranking.py#L788)[¶](https://scikit-learn.org/1.1/modules/generated/sklearn.metrics.precision_recall_curve.html?highlight=precision_recall_curve#sklearn.metrics.precision_recall_curve \"Permalink to this definition\")\n",
    "\n",
    "Returns:\n",
    "\n",
    "**precision**ndarray of shape (n_thresholds + 1,)\n",
    "\n",
    "Precision values such that element i is the precision of predictions with score >= thresholds[i] and the last element is 1.\n",
    "\n",
    "**recall**ndarray of shape (n_thresholds + 1,)\n",
    "\n",
    "Decreasing recall values such that element i is the recall of predictions with score >= thresholds[i] and the last element is 0.\n",
    "\n",
    "**thresholds**ndarray of shape (n_thresholds,)\n",
    "\n",
    "Increasing thresholds on the decision function used to compute precision and recall where  `n_thresholds  =  len(np.unique(probas_pred))`."
   ]
  },
  {
   "cell_type": "code",
   "execution_count": 41,
   "id": "28d1e4ef",
   "metadata": {
    "ExecuteTime": {
     "end_time": "2023-01-31T06:03:59.312209Z",
     "start_time": "2023-01-31T06:03:59.234517Z"
    }
   },
   "outputs": [],
   "source": [
    "from sklearn.metrics import precision_recall_curve\n",
    "\n",
    "Ir_clf = LogisticRegression()\n",
    "Ir_clf.fit(features, label)\n",
    "\n",
    "pred_proba = Ir_clf.predict_proba(titanic_test_df_1)[:,1]\n",
    "\n",
    "precision, recall, thresholds = precision_recall_curve(y_test, pred_proba)"
   ]
  },
  {
   "cell_type": "code",
   "execution_count": null,
   "id": "4e81e946",
   "metadata": {},
   "outputs": [],
   "source": [
    "import matplotlib.pyplot as plt\n",
    "impo"
   ]
  }
 ],
 "metadata": {
  "kernelspec": {
   "display_name": "Python 3 (ipykernel)",
   "language": "python",
   "name": "python3"
  },
  "language_info": {
   "codemirror_mode": {
    "name": "ipython",
    "version": 3
   },
   "file_extension": ".py",
   "mimetype": "text/x-python",
   "name": "python",
   "nbconvert_exporter": "python",
   "pygments_lexer": "ipython3",
   "version": "3.11.0"
  },
  "toc": {
   "base_numbering": 1,
   "nav_menu": {},
   "number_sections": true,
   "sideBar": true,
   "skip_h1_title": false,
   "title_cell": "Table of Contents",
   "title_sidebar": "Contents",
   "toc_cell": false,
   "toc_position": {},
   "toc_section_display": true,
   "toc_window_display": false
  },
  "varInspector": {
   "cols": {
    "lenName": 16,
    "lenType": 16,
    "lenVar": 40
   },
   "kernels_config": {
    "python": {
     "delete_cmd_postfix": "",
     "delete_cmd_prefix": "del ",
     "library": "var_list.py",
     "varRefreshCmd": "print(var_dic_list())"
    },
    "r": {
     "delete_cmd_postfix": ") ",
     "delete_cmd_prefix": "rm(",
     "library": "var_list.r",
     "varRefreshCmd": "cat(var_dic_list()) "
    }
   },
   "types_to_exclude": [
    "module",
    "function",
    "builtin_function_or_method",
    "instance",
    "_Feature"
   ],
   "window_display": false
  }
 },
 "nbformat": 4,
 "nbformat_minor": 5
}
